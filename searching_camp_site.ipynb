{
 "cells": [
  {
   "cell_type": "code",
   "execution_count": 34,
   "metadata": {},
   "outputs": [],
   "source": [
    "from selenium import webdriver\n",
    "driver = webdriver.Chrome('./chromedriver')\n",
    "driver.get(\"https://www.huyang.go.kr/member/memberLogin.action\")\n",
    "#driver.get(\"https://www.huyang.go.kr/reservation/reservationSearch.action\")"
   ]
  },
  {
   "cell_type": "code",
   "execution_count": 35,
   "metadata": {},
   "outputs": [],
   "source": [
    "#driver.set_window_size(800, 600)    # (가로, 세로) - 800 * 600 픽셀의 사이즈로 윈도우 브라우져를 열어줍니다.\n",
    "#driver.execute_script(\"window.scrollTo(200, 300);\")"
   ]
  },
  {
   "cell_type": "code",
   "execution_count": 36,
   "metadata": {},
   "outputs": [],
   "source": [
    "ID, PW = \"wooboky\", \"shim0514!!\"\n",
    "driver.find_element_by_css_selector('#v_mmberId').send_keys(ID)\n",
    "driver.find_element_by_css_selector('#v_mmberPassword').send_keys(PW)\n",
    "driver.find_element_by_css_selector(\".btn_login\").click()"
   ]
  },
  {
   "cell_type": "code",
   "execution_count": 37,
   "metadata": {},
   "outputs": [],
   "source": [
    "#월별예약현황\n",
    "driver.get(\"https://www.huyang.go.kr/reservation/reservationMonthSearch.action\")"
   ]
  },
  {
   "cell_type": "code",
   "execution_count": 38,
   "metadata": {},
   "outputs": [],
   "source": [
    "driver.find_element_by_css_selector(\"#upper_dprtm_id [value='0']\").click()\n",
    "driver.find_element_by_css_selector(\"#dprtm_id [value='4']\").click()\n",
    "driver.find_element_by_css_selector(\"#fcltLcd [value='04']\").click()\n",
    "driver.find_element_by_css_selector(\"#fcltMcd [value='04002']\").click()\n",
    "driver.find_element_by_css_selector(\"#btnStatusSearch\").click()\n",
    "#btnStatusSearch"
   ]
  },
  {
   "cell_type": "code",
   "execution_count": 57,
   "metadata": {},
   "outputs": [
    {
     "data": {
      "text/plain": [
       "[<selenium.webdriver.remote.webelement.WebElement (session=\"6447c33385e0022f6ae91953a2b16dca\", element=\"0.8150364144747713-2\")>,\n",
       " <selenium.webdriver.remote.webelement.WebElement (session=\"6447c33385e0022f6ae91953a2b16dca\", element=\"0.8150364144747713-3\")>,\n",
       " <selenium.webdriver.remote.webelement.WebElement (session=\"6447c33385e0022f6ae91953a2b16dca\", element=\"0.8150364144747713-4\")>,\n",
       " <selenium.webdriver.remote.webelement.WebElement (session=\"6447c33385e0022f6ae91953a2b16dca\", element=\"0.8150364144747713-5\")>,\n",
       " <selenium.webdriver.remote.webelement.WebElement (session=\"6447c33385e0022f6ae91953a2b16dca\", element=\"0.8150364144747713-6\")>,\n",
       " <selenium.webdriver.remote.webelement.WebElement (session=\"6447c33385e0022f6ae91953a2b16dca\", element=\"0.8150364144747713-7\")>,\n",
       " <selenium.webdriver.remote.webelement.WebElement (session=\"6447c33385e0022f6ae91953a2b16dca\", element=\"0.8150364144747713-8\")>,\n",
       " <selenium.webdriver.remote.webelement.WebElement (session=\"6447c33385e0022f6ae91953a2b16dca\", element=\"0.8150364144747713-9\")>,\n",
       " <selenium.webdriver.remote.webelement.WebElement (session=\"6447c33385e0022f6ae91953a2b16dca\", element=\"0.8150364144747713-10\")>,\n",
       " <selenium.webdriver.remote.webelement.WebElement (session=\"6447c33385e0022f6ae91953a2b16dca\", element=\"0.8150364144747713-11\")>,\n",
       " <selenium.webdriver.remote.webelement.WebElement (session=\"6447c33385e0022f6ae91953a2b16dca\", element=\"0.8150364144747713-12\")>,\n",
       " <selenium.webdriver.remote.webelement.WebElement (session=\"6447c33385e0022f6ae91953a2b16dca\", element=\"0.8150364144747713-13\")>,\n",
       " <selenium.webdriver.remote.webelement.WebElement (session=\"6447c33385e0022f6ae91953a2b16dca\", element=\"0.8150364144747713-14\")>,\n",
       " <selenium.webdriver.remote.webelement.WebElement (session=\"6447c33385e0022f6ae91953a2b16dca\", element=\"0.8150364144747713-15\")>,\n",
       " <selenium.webdriver.remote.webelement.WebElement (session=\"6447c33385e0022f6ae91953a2b16dca\", element=\"0.8150364144747713-16\")>,\n",
       " <selenium.webdriver.remote.webelement.WebElement (session=\"6447c33385e0022f6ae91953a2b16dca\", element=\"0.8150364144747713-17\")>,\n",
       " <selenium.webdriver.remote.webelement.WebElement (session=\"6447c33385e0022f6ae91953a2b16dca\", element=\"0.8150364144747713-18\")>,\n",
       " <selenium.webdriver.remote.webelement.WebElement (session=\"6447c33385e0022f6ae91953a2b16dca\", element=\"0.8150364144747713-19\")>,\n",
       " <selenium.webdriver.remote.webelement.WebElement (session=\"6447c33385e0022f6ae91953a2b16dca\", element=\"0.8150364144747713-20\")>,\n",
       " <selenium.webdriver.remote.webelement.WebElement (session=\"6447c33385e0022f6ae91953a2b16dca\", element=\"0.8150364144747713-21\")>,\n",
       " <selenium.webdriver.remote.webelement.WebElement (session=\"6447c33385e0022f6ae91953a2b16dca\", element=\"0.8150364144747713-22\")>,\n",
       " <selenium.webdriver.remote.webelement.WebElement (session=\"6447c33385e0022f6ae91953a2b16dca\", element=\"0.8150364144747713-23\")>,\n",
       " <selenium.webdriver.remote.webelement.WebElement (session=\"6447c33385e0022f6ae91953a2b16dca\", element=\"0.8150364144747713-24\")>,\n",
       " <selenium.webdriver.remote.webelement.WebElement (session=\"6447c33385e0022f6ae91953a2b16dca\", element=\"0.8150364144747713-25\")>,\n",
       " <selenium.webdriver.remote.webelement.WebElement (session=\"6447c33385e0022f6ae91953a2b16dca\", element=\"0.8150364144747713-26\")>,\n",
       " <selenium.webdriver.remote.webelement.WebElement (session=\"6447c33385e0022f6ae91953a2b16dca\", element=\"0.8150364144747713-27\")>,\n",
       " <selenium.webdriver.remote.webelement.WebElement (session=\"6447c33385e0022f6ae91953a2b16dca\", element=\"0.8150364144747713-28\")>,\n",
       " <selenium.webdriver.remote.webelement.WebElement (session=\"6447c33385e0022f6ae91953a2b16dca\", element=\"0.8150364144747713-29\")>,\n",
       " <selenium.webdriver.remote.webelement.WebElement (session=\"6447c33385e0022f6ae91953a2b16dca\", element=\"0.8150364144747713-30\")>,\n",
       " <selenium.webdriver.remote.webelement.WebElement (session=\"6447c33385e0022f6ae91953a2b16dca\", element=\"0.8150364144747713-31\")>,\n",
       " <selenium.webdriver.remote.webelement.WebElement (session=\"6447c33385e0022f6ae91953a2b16dca\", element=\"0.8150364144747713-32\")>,\n",
       " <selenium.webdriver.remote.webelement.WebElement (session=\"6447c33385e0022f6ae91953a2b16dca\", element=\"0.8150364144747713-33\")>,\n",
       " <selenium.webdriver.remote.webelement.WebElement (session=\"6447c33385e0022f6ae91953a2b16dca\", element=\"0.8150364144747713-34\")>,\n",
       " <selenium.webdriver.remote.webelement.WebElement (session=\"6447c33385e0022f6ae91953a2b16dca\", element=\"0.8150364144747713-35\")>,\n",
       " <selenium.webdriver.remote.webelement.WebElement (session=\"6447c33385e0022f6ae91953a2b16dca\", element=\"0.8150364144747713-36\")>,\n",
       " <selenium.webdriver.remote.webelement.WebElement (session=\"6447c33385e0022f6ae91953a2b16dca\", element=\"0.8150364144747713-37\")>,\n",
       " <selenium.webdriver.remote.webelement.WebElement (session=\"6447c33385e0022f6ae91953a2b16dca\", element=\"0.8150364144747713-38\")>,\n",
       " <selenium.webdriver.remote.webelement.WebElement (session=\"6447c33385e0022f6ae91953a2b16dca\", element=\"0.8150364144747713-39\")>,\n",
       " <selenium.webdriver.remote.webelement.WebElement (session=\"6447c33385e0022f6ae91953a2b16dca\", element=\"0.8150364144747713-40\")>,\n",
       " <selenium.webdriver.remote.webelement.WebElement (session=\"6447c33385e0022f6ae91953a2b16dca\", element=\"0.8150364144747713-41\")>,\n",
       " <selenium.webdriver.remote.webelement.WebElement (session=\"6447c33385e0022f6ae91953a2b16dca\", element=\"0.8150364144747713-42\")>,\n",
       " <selenium.webdriver.remote.webelement.WebElement (session=\"6447c33385e0022f6ae91953a2b16dca\", element=\"0.8150364144747713-43\")>,\n",
       " <selenium.webdriver.remote.webelement.WebElement (session=\"6447c33385e0022f6ae91953a2b16dca\", element=\"0.8150364144747713-44\")>,\n",
       " <selenium.webdriver.remote.webelement.WebElement (session=\"6447c33385e0022f6ae91953a2b16dca\", element=\"0.8150364144747713-45\")>,\n",
       " <selenium.webdriver.remote.webelement.WebElement (session=\"6447c33385e0022f6ae91953a2b16dca\", element=\"0.8150364144747713-46\")>,\n",
       " <selenium.webdriver.remote.webelement.WebElement (session=\"6447c33385e0022f6ae91953a2b16dca\", element=\"0.8150364144747713-47\")>,\n",
       " <selenium.webdriver.remote.webelement.WebElement (session=\"6447c33385e0022f6ae91953a2b16dca\", element=\"0.8150364144747713-48\")>,\n",
       " <selenium.webdriver.remote.webelement.WebElement (session=\"6447c33385e0022f6ae91953a2b16dca\", element=\"0.8150364144747713-49\")>,\n",
       " <selenium.webdriver.remote.webelement.WebElement (session=\"6447c33385e0022f6ae91953a2b16dca\", element=\"0.8150364144747713-50\")>,\n",
       " <selenium.webdriver.remote.webelement.WebElement (session=\"6447c33385e0022f6ae91953a2b16dca\", element=\"0.8150364144747713-51\")>,\n",
       " <selenium.webdriver.remote.webelement.WebElement (session=\"6447c33385e0022f6ae91953a2b16dca\", element=\"0.8150364144747713-52\")>,\n",
       " <selenium.webdriver.remote.webelement.WebElement (session=\"6447c33385e0022f6ae91953a2b16dca\", element=\"0.8150364144747713-53\")>,\n",
       " <selenium.webdriver.remote.webelement.WebElement (session=\"6447c33385e0022f6ae91953a2b16dca\", element=\"0.8150364144747713-54\")>,\n",
       " <selenium.webdriver.remote.webelement.WebElement (session=\"6447c33385e0022f6ae91953a2b16dca\", element=\"0.8150364144747713-55\")>,\n",
       " <selenium.webdriver.remote.webelement.WebElement (session=\"6447c33385e0022f6ae91953a2b16dca\", element=\"0.8150364144747713-56\")>,\n",
       " <selenium.webdriver.remote.webelement.WebElement (session=\"6447c33385e0022f6ae91953a2b16dca\", element=\"0.8150364144747713-57\")>,\n",
       " <selenium.webdriver.remote.webelement.WebElement (session=\"6447c33385e0022f6ae91953a2b16dca\", element=\"0.8150364144747713-58\")>,\n",
       " <selenium.webdriver.remote.webelement.WebElement (session=\"6447c33385e0022f6ae91953a2b16dca\", element=\"0.8150364144747713-59\")>,\n",
       " <selenium.webdriver.remote.webelement.WebElement (session=\"6447c33385e0022f6ae91953a2b16dca\", element=\"0.8150364144747713-60\")>,\n",
       " <selenium.webdriver.remote.webelement.WebElement (session=\"6447c33385e0022f6ae91953a2b16dca\", element=\"0.8150364144747713-61\")>,\n",
       " <selenium.webdriver.remote.webelement.WebElement (session=\"6447c33385e0022f6ae91953a2b16dca\", element=\"0.8150364144747713-62\")>,\n",
       " <selenium.webdriver.remote.webelement.WebElement (session=\"6447c33385e0022f6ae91953a2b16dca\", element=\"0.8150364144747713-63\")>,\n",
       " <selenium.webdriver.remote.webelement.WebElement (session=\"6447c33385e0022f6ae91953a2b16dca\", element=\"0.8150364144747713-64\")>,\n",
       " <selenium.webdriver.remote.webelement.WebElement (session=\"6447c33385e0022f6ae91953a2b16dca\", element=\"0.8150364144747713-65\")>,\n",
       " <selenium.webdriver.remote.webelement.WebElement (session=\"6447c33385e0022f6ae91953a2b16dca\", element=\"0.8150364144747713-66\")>]"
      ]
     },
     "execution_count": 57,
     "metadata": {},
     "output_type": "execute_result"
    }
   ],
   "source": [
    "elements = driver.find_elements_by_css_selector(\".table_wrap_04 > tbody > tr\")\n",
    "len(elements)\n",
    "elements"
   ]
  },
  {
   "cell_type": "code",
   "execution_count": 74,
   "metadata": {},
   "outputs": [
    {
     "data": {
      "text/plain": [
       "{'locked_left': '야영데크(101)(0인실/11㎡)', 'sat_day': ''}"
      ]
     },
     "execution_count": 74,
     "metadata": {},
     "output_type": "execute_result"
    }
   ],
   "source": [
    "item = {}\n",
    "item[\"locked_left\"] = elements[0].find_element_by_css_selector(\"td.locked_left\").text\n",
    "item[\"sat_day\"] = elements[5].find_element_by_css_selector(\"td.sat_day\").text\n",
    "item\n",
    "#sub_content_wrap > div.content > div > div > div.ins_current_table_wrap.mgb20 > table > tbody > tr:nth-child(1) > td.locked_left\n"
   ]
  },
  {
   "cell_type": "code",
   "execution_count": null,
   "metadata": {},
   "outputs": [],
   "source": [
    "items = []\n",
    "for element in elements:\n",
    "    item = {}\n",
    "    try:\n",
    "        item[\"facility\"] = element.find_element_by_css_selector(\".locked_left\").text\n",
    "        item[\"product\"] = element.find_element_by_css_selector(\"td:nth-child(3)\").text\n",
    "        item[\"total_cost\"] = element.find_element_by_css_selector(\".total_cost\").text\n",
    "        item[\"range\"] = element.find_element_by_css_selector(\"td:nth-child(7)\").text\n",
    "        item[\"age\"] = element.find_element_by_css_selector(\"td:nth-child(8)\").text\n",
    "        item[\"etc\"] = element.find_element_by_css_selector(\"td:nth-child(9)\").text.replace(\"\\n\", \", \")     \n",
    "        items.append(item)\n",
    "        idx = 0\n",
    "    except:\n",
    "        guarantee = element.find_element_by_css_selector(\".item_list > li\")\n",
    "        tmp_item = {}\n",
    "        tmp_item[\"guarantee_\" + str(idx)] = guarantee.find_element_by_css_selector(\".kind\").text\n",
    "        tmp_item[\"guarantee_\" + str(idx) + \"_cost\"] = guarantee.find_element_by_css_selector(\".cost\").text\n",
    "        items[len(items)-1].update(tmp_item)\n",
    "        idx += 1"
   ]
  }
 ],
 "metadata": {
  "kernelspec": {
   "display_name": "Python 3",
   "language": "python",
   "name": "python3"
  },
  "language_info": {
   "codemirror_mode": {
    "name": "ipython",
    "version": 3
   },
   "file_extension": ".py",
   "mimetype": "text/x-python",
   "name": "python",
   "nbconvert_exporter": "python",
   "pygments_lexer": "ipython3",
   "version": "3.7.3"
  }
 },
 "nbformat": 4,
 "nbformat_minor": 2
}
